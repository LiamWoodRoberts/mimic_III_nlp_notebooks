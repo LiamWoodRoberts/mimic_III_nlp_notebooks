{
 "cells": [
  {
   "cell_type": "markdown",
   "metadata": {},
   "source": [
    "# Creating Custom Word2Vec Embeddings\n",
    "\n",
    "---\n",
    "\n",
    "This notebook goes through creating custom word embeddings from a list of documents (strings). It parses each document into a list of sentances then splits each sentance into a sequence of words, before being passed to a gensim Word2Vec model."
   ]
  },
  {
   "cell_type": "code",
   "execution_count": 1,
   "metadata": {},
   "outputs": [],
   "source": [
    "%reset -f"
   ]
  },
  {
   "cell_type": "code",
   "execution_count": 2,
   "metadata": {},
   "outputs": [],
   "source": [
    "import nltk\n",
    "import pandas as pd\n",
    "import numpy as np\n",
    "from section_parse import run\n",
    "import json\n",
    "import re\n",
    "import random\n",
    "from gensim.models import Word2Vec"
   ]
  },
  {
   "cell_type": "markdown",
   "metadata": {},
   "source": [
    "### Extracting all HPI Sections"
   ]
  },
  {
   "cell_type": "code",
   "execution_count": 3,
   "metadata": {},
   "outputs": [],
   "source": [
    "title = \"HISTORY OF PRESENT ILLNESS:\"\n",
    "#title = \"DISCHARGE MEDICATIONS:\"\n",
    "medication_sections = run(title)\n",
    "medication_sections = [i for i in medication_sections if i != \"NOT FOUND\"]"
   ]
  },
  {
   "cell_type": "markdown",
   "metadata": {},
   "source": [
    "## Saving Unannotated Sentances"
   ]
  },
  {
   "cell_type": "code",
   "execution_count": 4,
   "metadata": {},
   "outputs": [],
   "source": [
    "def clean_text(text):\n",
    "    bad_chars = [\":\",\"*\"]\n",
    "    space_chars = [\"[\",\"]\",\"(\",\")\",\"\\n\"]\n",
    "    for c in bad_chars:\n",
    "        text = text.replace(c,\"\")\n",
    "    for c in space_chars:\n",
    "        text = text.replace(c,\" \")\n",
    "    return text\n",
    "\n",
    "def sections_to_sentances(sections):\n",
    "    sentances = []\n",
    "    for section in sections:\n",
    "        section = clean_text(section)\n",
    "        sentances += [i.lstrip() for i in re.split(\"\\. \",section) if len(i)>0]\n",
    "    return sentances\n",
    "\n",
    "def get_sentances(sections,start,samples,min_len=3):\n",
    "    sections = medication_sections[start:start+n]\n",
    "    seqs = sections_to_sentances(sections)\n",
    "    seqs = [i for i in seqs if len(i)>min_len]\n",
    "    return seqs\n",
    "\n",
    "def create_and_save_data(sections,start,n,foldername=\"nlp_data\"):\n",
    "    seqs = get_sentances(sections,start,n)\n",
    "    file = f\"{foldername}/sentances_{start}-{start+n}.txt\"\n",
    "    with open(file,\"w\") as f:\n",
    "        f.writelines(seqs)\n",
    "    print(\"~~~File Saved Successfully\")\n",
    "    return df"
   ]
  },
  {
   "cell_type": "markdown",
   "metadata": {},
   "source": [
    "This function can be used to get batches of data points but here we get the entire dataset."
   ]
  },
  {
   "cell_type": "code",
   "execution_count": 5,
   "metadata": {},
   "outputs": [
    {
     "name": "stdout",
     "output_type": "stream",
     "text": [
      "Total Sentances: 643084\n",
      "Sentance Examples:\n",
      "\n",
      "0 -  HISTORY OF PRESENT ILLNESS  This is an 81-year-old female with a history of emphysema  not on home O2 , who presents with three days of shortness of breath thought by her primary care doctor to be a COPD flare \n",
      "\n",
      "1 -  Two days prior to admission, she was started on a prednisone taper and one day prior to admission she required oxygen at home in order to maintain oxygen saturation greater than 90% \n",
      "\n",
      "2 -  She has also been on levofloxacin and nebulizers, and was not getting better, and presented to the  Hospital1 18  Emergency Room \n",
      "\n",
      "3 -  In the  Hospital3   Emergency Room, her oxygen saturation was 100% on CPAP \n",
      "\n",
      "4 -  She was not able to be weaned off of this despite nebulizer treatment and Solu-Medrol 125 mg IV x2 \n",
      "\n",
      "5 -  Review of systems is negative for the following  Fevers, chills, nausea, vomiting, night sweats, change in weight, gastrointestinal complaints, neurologic changes, rashes, palpitations, orthopnea \n",
      "\n",
      "6 -  Is positive for the following Chest pressure occasionally with shortness of breath with exertion, some shortness of breath that is positionally related, but is improved with nebulizer treatment. \n",
      "\n",
      "7 -  HISTORY OF PRESENT ILLNESS This 81 year old woman has a history of COPD \n",
      "\n",
      "8 -  Over the past five  years she has had progressive difficulties with her breathing \n",
      "\n",
      "9 -  In  2118-6-4  she was admitted to  Hospital1 18  for respiratory failure due to a COPD exacerbation \n",
      "\n"
     ]
    }
   ],
   "source": [
    "start = 0\n",
    "n = len(medication_sections)\n",
    "seqs = get_sentances(medication_sections,start,n)\n",
    "\n",
    "print(\"Total Sentances:\",len(seqs))\n",
    "print(\"Sentance Examples:\\n\")\n",
    "[print(f\"{i} - \",seqs[i],\"\\n\") for i in range(10)];"
   ]
  },
  {
   "cell_type": "code",
   "execution_count": 7,
   "metadata": {},
   "outputs": [
    {
     "data": {
      "text/plain": [
       "'history of present illness  this is an 81-year-old female with a history of emphysema  not on home o2 , who presents with three days of shortness of breath thought by her primary care doctor to be a copd flare'"
      ]
     },
     "execution_count": 7,
     "metadata": {},
     "output_type": "execute_result"
    }
   ],
   "source": [
    "# Our LSTMs will use only lower cases so we get embeddings for these\n",
    "seqs = [seq.lower() for seq in seqs]\n",
    "seqs[0]"
   ]
  },
  {
   "cell_type": "code",
   "execution_count": 22,
   "metadata": {},
   "outputs": [],
   "source": [
    "def sentance_to_seqs(sentance):\n",
    "    seq = re.split(\" \",sentance)\n",
    "    return [word for word in seq if len(word)>0]"
   ]
  },
  {
   "cell_type": "code",
   "execution_count": 23,
   "metadata": {},
   "outputs": [
    {
     "data": {
      "text/plain": [
       "['history',\n",
       " 'of',\n",
       " 'present',\n",
       " 'illness',\n",
       " 'this',\n",
       " 'is',\n",
       " 'an',\n",
       " '81-year-old',\n",
       " 'female',\n",
       " 'with',\n",
       " 'a',\n",
       " 'history',\n",
       " 'of',\n",
       " 'emphysema',\n",
       " 'not',\n",
       " 'on',\n",
       " 'home',\n",
       " 'o2',\n",
       " ',',\n",
       " 'who',\n",
       " 'presents',\n",
       " 'with',\n",
       " 'three',\n",
       " 'days',\n",
       " 'of',\n",
       " 'shortness',\n",
       " 'of',\n",
       " 'breath',\n",
       " 'thought',\n",
       " 'by',\n",
       " 'her',\n",
       " 'primary',\n",
       " 'care',\n",
       " 'doctor',\n",
       " 'to',\n",
       " 'be',\n",
       " 'a',\n",
       " 'copd',\n",
       " 'flare']"
      ]
     },
     "execution_count": 23,
     "metadata": {},
     "output_type": "execute_result"
    }
   ],
   "source": [
    "cleaned_seqs = [sentance_to_seqs(sentance) for sentance in seqs]\n",
    "cleaned_seqs[0]"
   ]
  },
  {
   "cell_type": "code",
   "execution_count": 24,
   "metadata": {},
   "outputs": [],
   "source": [
    "model = Word2Vec(cleaned_seqs,size=100,window=5,min_count=1)\n",
    "model.save(\"./nlp_data/word2vec.model\")"
   ]
  },
  {
   "cell_type": "markdown",
   "metadata": {},
   "source": [
    "Embeddings are now ready to be loaded and used as the weights matrix for the embedding layer of an LSTM (with some formatting required)."
   ]
  },
  {
   "cell_type": "markdown",
   "metadata": {},
   "source": [
    "---"
   ]
  }
 ],
 "metadata": {
  "kernelspec": {
   "display_name": "Python [conda env:keras36]",
   "language": "python",
   "name": "conda-env-keras36-py"
  },
  "language_info": {
   "codemirror_mode": {
    "name": "ipython",
    "version": 3
   },
   "file_extension": ".py",
   "mimetype": "text/x-python",
   "name": "python",
   "nbconvert_exporter": "python",
   "pygments_lexer": "ipython3",
   "version": "3.6.9"
  }
 },
 "nbformat": 4,
 "nbformat_minor": 2
}
