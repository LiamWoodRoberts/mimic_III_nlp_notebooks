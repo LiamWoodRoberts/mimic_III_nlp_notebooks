{
 "cells": [
  {
   "cell_type": "markdown",
   "metadata": {},
   "source": [
    "# Pre Annotate DataTurks Data with CRF"
   ]
  },
  {
   "cell_type": "code",
   "execution_count": 1,
   "metadata": {},
   "outputs": [],
   "source": [
    "%reset -f"
   ]
  },
  {
   "cell_type": "code",
   "execution_count": 201,
   "metadata": {},
   "outputs": [],
   "source": [
    "import pandas as pd\n",
    "import re\n",
    "import numpy as np\n",
    "import random\n",
    "import time\n",
    "import json\n",
    "from seqeval.metrics import f1_score,classification_report\n",
    "from tensorflow.keras.models import Sequential,Model\n",
    "from tensorflow.keras.layers import LSTM, Embedding, Dense, TimeDistributed, Dropout, Bidirectional,Input,concatenate,SpatialDropout1D\n",
    "from tensorflow.keras.utils import to_categorical\n",
    "from tensorflow.keras.callbacks import EarlyStopping\n",
    "from sklearn.model_selection import train_test_split\n",
    "from nltk import pos_tag\n",
    "import eli5\n",
    "from sklearn_crfsuite import CRF\n",
    "from sklearn.model_selection import cross_val_predict\n",
    "from sklearn_crfsuite.metrics import flat_classification_report\n",
    "from sklearn_crfsuite.metrics import flat_f1_score"
   ]
  },
  {
   "cell_type": "code",
   "execution_count": 3,
   "metadata": {},
   "outputs": [
    {
     "data": {
      "text/plain": [
       "[['\"HISTORY', 'O'],\n",
       " ['OF', 'O'],\n",
       " ['PRESENT', 'O'],\n",
       " ['ILLNESS', 'O'],\n",
       " ['This', 'O'],\n",
       " ['is', 'O'],\n",
       " ['an', 'O'],\n",
       " ['81-year-old', 'Age'],\n",
       " ['female', 'Gender'],\n",
       " ['with', 'O'],\n",
       " ['a', 'O'],\n",
       " ['history', 'O'],\n",
       " ['of', 'O'],\n",
       " ['emphysema', 'Condition'],\n",
       " ['not', 'O'],\n",
       " ['on', 'O'],\n",
       " ['home', 'Drug'],\n",
       " ['O2', 'Drug'],\n",
       " [',', 'O'],\n",
       " ['who', 'O']]"
      ]
     },
     "execution_count": 3,
     "metadata": {},
     "output_type": "execute_result"
    }
   ],
   "source": [
    "def read_turks(file):\n",
    "    with open(file) as f:\n",
    "        lines = [i.rstrip().split(\"\\t\") for i in f.readlines()]\n",
    "    return lines\n",
    "\n",
    "file = \"./data/Medical NER V2 4000.tsv\"\n",
    "word_ents = read_turks(file)\n",
    "word_ents[:20]"
   ]
  },
  {
   "cell_type": "code",
   "execution_count": 5,
   "metadata": {},
   "outputs": [],
   "source": [
    "def clean_words(word_ents):\n",
    "    '''removes quote and comma characters from'''\n",
    "    new_word_ents = []\n",
    "    for ents in word_ents:\n",
    "        word = ents[0]\n",
    "        word = word.replace('\"','')\n",
    "        ents[0] = word\n",
    "        new_word_ents.append(ents)\n",
    "    return new_word_ents"
   ]
  },
  {
   "cell_type": "code",
   "execution_count": 6,
   "metadata": {},
   "outputs": [
    {
     "data": {
      "text/plain": [
       "[['HISTORY', 'O'],\n",
       " ['OF', 'O'],\n",
       " ['PRESENT', 'O'],\n",
       " ['ILLNESS', 'O'],\n",
       " ['This', 'O'],\n",
       " ['is', 'O'],\n",
       " ['an', 'O'],\n",
       " ['81-year-old', 'Age'],\n",
       " ['female', 'Gender'],\n",
       " ['with', 'O'],\n",
       " ['a', 'O'],\n",
       " ['history', 'O'],\n",
       " ['of', 'O'],\n",
       " ['emphysema', 'Condition'],\n",
       " ['not', 'O'],\n",
       " ['on', 'O'],\n",
       " ['home', 'Drug'],\n",
       " ['O2', 'Drug'],\n",
       " [',', 'O'],\n",
       " ['who', 'O']]"
      ]
     },
     "execution_count": 6,
     "metadata": {},
     "output_type": "execute_result"
    }
   ],
   "source": [
    "new_ents = clean_words(word_ents)\n",
    "new_ents[:20]"
   ]
  },
  {
   "cell_type": "code",
   "execution_count": 253,
   "metadata": {},
   "outputs": [],
   "source": [
    "def create_seqs(word_ents):\n",
    "    seqs = []\n",
    "    seq = []\n",
    "    for ents in word_ents:\n",
    "        if len(ents)>1:\n",
    "            if len(ents[0])>0:\n",
    "                if ents[0][-1] == \".\":\n",
    "                    seq.append([ents[0][:-1],ents[1]])\n",
    "                if len(ents[0])>1:\n",
    "                    seq.append([ents[0].replace(\",\",\"\"),ents[1]])\n",
    "                else:\n",
    "                    seq.append(ents)\n",
    "        else:\n",
    "            seqs.append([i for i in seq if len(i[0])>0])\n",
    "            seq=[]\n",
    "    return seqs"
   ]
  },
  {
   "cell_type": "code",
   "execution_count": 254,
   "metadata": {},
   "outputs": [
    {
     "data": {
      "text/plain": [
       "[['HISTORY', 'O'],\n",
       " ['OF', 'O'],\n",
       " ['PRESENT', 'O'],\n",
       " ['ILLNESS', 'O'],\n",
       " ['This', 'O'],\n",
       " ['is', 'O'],\n",
       " ['an', 'O'],\n",
       " ['81-year-old', 'Age'],\n",
       " ['female', 'Gender'],\n",
       " ['with', 'O'],\n",
       " ['a', 'O'],\n",
       " ['history', 'O'],\n",
       " ['of', 'O'],\n",
       " ['emphysema', 'Condition'],\n",
       " ['not', 'O'],\n",
       " ['on', 'O'],\n",
       " ['home', 'Drug'],\n",
       " ['O2', 'Drug'],\n",
       " [',', 'O'],\n",
       " ['who', 'O'],\n",
       " ['presents', 'O'],\n",
       " ['with', 'O'],\n",
       " ['three', 'Duration'],\n",
       " ['days', 'Duration'],\n",
       " ['of', 'O'],\n",
       " ['shortness', 'DOS'],\n",
       " ['of', 'DOS'],\n",
       " ['breath', 'DOS'],\n",
       " ['thought', 'O'],\n",
       " ['by', 'O'],\n",
       " ['her', 'O'],\n",
       " ['primary', 'POI'],\n",
       " ['care', 'POI'],\n",
       " ['doctor', 'POI'],\n",
       " ['to', 'O'],\n",
       " ['be', 'O'],\n",
       " ['a', 'O'],\n",
       " ['COPD', 'Condition'],\n",
       " ['flare', 'Condition']]"
      ]
     },
     "execution_count": 254,
     "metadata": {},
     "output_type": "execute_result"
    }
   ],
   "source": [
    "seqs = create_seqs(new_ents)\n",
    "seqs[0]"
   ]
  },
  {
   "cell_type": "code",
   "execution_count": 259,
   "metadata": {},
   "outputs": [],
   "source": [
    "def add_pos(seqs):\n",
    "    new_seqs = []\n",
    "    for sentance in seqs:\n",
    "        words = [word[0] for word in sentance]\n",
    "        pos = pos_tag(words)        \n",
    "        new_seq = [pos[i]+(sentance[i][1],) for i in range(len(sentance))]\n",
    "        new_seqs.append(new_seq)\n",
    "    return new_seqs"
   ]
  },
  {
   "cell_type": "code",
   "execution_count": 260,
   "metadata": {},
   "outputs": [
    {
     "name": "stdout",
     "output_type": "stream",
     "text": [
      "[('HISTORY', 'NN', 'O'), ('OF', 'NNP', 'O'), ('PRESENT', 'NNP', 'O'), ('ILLNESS', 'NNP', 'O'), ('This', 'DT', 'O'), ('is', 'VBZ', 'O'), ('an', 'DT', 'O'), ('81-year-old', 'JJ', 'Age'), ('female', 'NN', 'Gender'), ('with', 'IN', 'O'), ('a', 'DT', 'O'), ('history', 'NN', 'O'), ('of', 'IN', 'O'), ('emphysema', 'NN', 'Condition'), ('not', 'RB', 'O'), ('on', 'IN', 'O'), ('home', 'NN', 'Drug'), ('O2', 'NNP', 'Drug'), (',', ',', 'O'), ('who', 'WP', 'O'), ('presents', 'VBZ', 'O'), ('with', 'IN', 'O'), ('three', 'CD', 'Duration'), ('days', 'NNS', 'Duration'), ('of', 'IN', 'O'), ('shortness', 'NN', 'DOS'), ('of', 'IN', 'DOS'), ('breath', 'NN', 'DOS'), ('thought', 'VBN', 'O'), ('by', 'IN', 'O'), ('her', 'PRP$', 'O'), ('primary', 'JJ', 'POI'), ('care', 'NN', 'POI'), ('doctor', 'NN', 'POI'), ('to', 'TO', 'O'), ('be', 'VB', 'O'), ('a', 'DT', 'O'), ('COPD', 'NNP', 'Condition'), ('flare', 'NN', 'Condition')]\n",
      "4002\n"
     ]
    }
   ],
   "source": [
    "pos_seqs = add_pos(seqs)\n",
    "print(pos_seqs[0])\n",
    "print(len(pos_seqs))"
   ]
  },
  {
   "cell_type": "code",
   "execution_count": 261,
   "metadata": {},
   "outputs": [],
   "source": [
    "def word2features(sent, i):\n",
    "    '''\n",
    "    \n",
    "    From:\n",
    "    https://www.depends-on-the-definition.com/named-entity-recognition-conditional-random-fields-python/\n",
    "    \n",
    "    '''\n",
    "    word = sent[i][0]\n",
    "    postag = sent[i][1]\n",
    "\n",
    "    features = {\n",
    "        'bias': 1.0,\n",
    "        'word.lower()': word.lower(),\n",
    "        'word[-3:]': word[-3:],\n",
    "        'word[-2:]': word[-2:],\n",
    "        'word.isupper()': word.isupper(),\n",
    "        'word.istitle()': word.istitle(),\n",
    "        'word.isdigit()': word.isdigit(),\n",
    "        'postag': postag,\n",
    "        'postag[:2]': postag[:2],\n",
    "    }\n",
    "    if i > 0:\n",
    "        word1 = sent[i-1][0]\n",
    "        postag1 = sent[i-1][1]\n",
    "        features.update({\n",
    "            '-1:word.lower()': word1.lower(),\n",
    "            '-1:word.istitle()': word1.istitle(),\n",
    "            '-1:word.isupper()': word1.isupper(),\n",
    "            '-1:postag': postag1,\n",
    "            '-1:postag[:2]': postag1[:2],\n",
    "        })\n",
    "    else:\n",
    "        features['BOS'] = True\n",
    "\n",
    "    if i < len(sent)-1:\n",
    "        word1 = sent[i+1][0]\n",
    "        postag1 = sent[i+1][1]\n",
    "        features.update({\n",
    "            '+1:word.lower()': word1.lower(),\n",
    "            '+1:word.istitle()': word1.istitle(),\n",
    "            '+1:word.isupper()': word1.isupper(),\n",
    "            '+1:postag': postag1,\n",
    "            '+1:postag[:2]': postag1[:2],\n",
    "        })\n",
    "    else:\n",
    "        features['EOS'] = True\n",
    "\n",
    "    return features\n",
    "\n",
    "def sent2features(sent):\n",
    "    return [word2features(sent, i) for i in range(len(sent))]\n",
    "\n",
    "def sent2labels(sent):\n",
    "    return [label for token, postag, label in sent]\n",
    "\n",
    "def sent2tokens(sent):\n",
    "    return [token for token, postag, label in sent]"
   ]
  },
  {
   "cell_type": "code",
   "execution_count": 262,
   "metadata": {},
   "outputs": [],
   "source": [
    "x = [sent2features(s) for s in pos_seqs]\n",
    "y = [sent2labels(s) for s in pos_seqs]"
   ]
  },
  {
   "cell_type": "code",
   "execution_count": 263,
   "metadata": {},
   "outputs": [],
   "source": [
    "x_train, x_test, y_train, y_test = train_test_split(x, y, test_size=0.1, random_state=42)"
   ]
  },
  {
   "cell_type": "code",
   "execution_count": 264,
   "metadata": {},
   "outputs": [],
   "source": [
    "crf = CRF(algorithm='lbfgs',\n",
    "          c1=0.1,\n",
    "          c2=0.1,\n",
    "          max_iterations=100,\n",
    "          all_possible_transitions=False)\n",
    "\n",
    "crf.fit(x_train, y_train)\n",
    "pred = crf.predict(x_test)\n",
    "tr_pred = crf.predict(x_train)"
   ]
  },
  {
   "cell_type": "code",
   "execution_count": 265,
   "metadata": {},
   "outputs": [
    {
     "name": "stdout",
     "output_type": "stream",
     "text": [
      "Test Results:\n",
      " ------------------------------------------------------------\n",
      "                    precision    recall  f1-score   support\n",
      "\n",
      "               Age       1.00      1.00      1.00        20\n",
      "              Dose       1.00      0.92      0.96        65\n",
      "               DOS       0.67      0.62      0.64       357\n",
      "              Drug       0.92      0.89      0.90       146\n",
      "  Test / Screening       0.79      0.73      0.76        71\n",
      "             Route       0.90      0.84      0.87        51\n",
      "         Condition       0.65      0.64      0.64       138\n",
      "              Date       0.85      0.81      0.83        42\n",
      "               GEO       0.82      0.84      0.83       118\n",
      "              Time       0.69      0.72      0.70        67\n",
      "              BODY       0.63      0.56      0.59       101\n",
      "  Respiratory Rate       1.00      0.70      0.82        10\n",
      "         Frequency       0.67      0.50      0.57        16\n",
      "         Procedure       0.70      0.59      0.64        91\n",
      "Patient Relocation       0.79      0.76      0.77        83\n",
      "    Blood Pressure       0.74      0.77      0.76        22\n",
      "  Accident / Event       0.67      0.57      0.62        14\n",
      "          Quantity       0.75      0.55      0.63        22\n",
      "               POI       0.75      0.58      0.65        31\n",
      "       Temperature       0.90      0.69      0.78        13\n",
      "        Heart Rate       0.62      0.50      0.55        16\n",
      "          Duration       0.47      0.39      0.43        23\n",
      "            Gender       1.00      0.87      0.93        15\n",
      "\n",
      "         micro avg       0.75      0.70      0.73      1532\n",
      "         macro avg       0.75      0.70      0.73      1532\n",
      "\n",
      "------------------------------------------------------------\n"
     ]
    }
   ],
   "source": [
    "report = classification_report(y_test,pred)\n",
    "print(\"Test Results:\\n\",\"-\"*60)\n",
    "print(report)\n",
    "print(\"-\"*60)"
   ]
  },
  {
   "cell_type": "code",
   "execution_count": 266,
   "metadata": {},
   "outputs": [
    {
     "name": "stdout",
     "output_type": "stream",
     "text": [
      "F1-Score: 0.7282535401213756\n"
     ]
    }
   ],
   "source": [
    "model_f1 = f1_score(y_test,pred)\n",
    "print(\"F1-Score:\",model_f1)"
   ]
  },
  {
   "cell_type": "code",
   "execution_count": 267,
   "metadata": {},
   "outputs": [
    {
     "name": "stdout",
     "output_type": "stream",
     "text": [
      "Word:                Prediction:          Real Label:         \n",
      "her                  O                    O                   \n",
      "chest                Test / Screening     Test / Screening    \n",
      "x-ray                Test / Screening     Test / Screening    \n",
      "was                  O                    O                   \n",
      "consistent           O                    O                   \n",
      "with                 O                    O                   \n",
      "increasing           O                    O                   \n",
      "congestive           Condition            Condition           \n",
      "heart                Condition            Condition           \n",
      "failure              Condition            Condition           \n",
      "compared             O                    O                   \n",
      "with                 O                    O                   \n",
      "earlier              Time                 Time                \n",
      "in                   Time                 Time                \n",
      "the                  Time                 Time                \n",
      "day                  Time                 Time                \n",
      ".                    O                    O                   \n"
     ]
    }
   ],
   "source": [
    "idx = 2\n",
    "sample_sentance = [i[\"word.lower()\"] for i in x_test[idx]]\n",
    "\n",
    "print(\"{:20} {:20} {:20}\".format(\"Word:\",\"Prediction:\",\"Real Label:\"))\n",
    "for i in range(len(sample_sentance)):\n",
    "    print(\"{:20} {:20} {:20}\".format(sample_sentance[i],pred[idx][i],y_test[idx][i]))"
   ]
  },
  {
   "cell_type": "code",
   "execution_count": 268,
   "metadata": {},
   "outputs": [],
   "source": [
    "sample_seqs = pos_seqs[:10]"
   ]
  },
  {
   "cell_type": "code",
   "execution_count": 278,
   "metadata": {},
   "outputs": [
    {
     "data": {
      "text/plain": [
       "[('HISTORY', 'NN', 'O'),\n",
       " ('OF', 'NNP', 'O'),\n",
       " ('PRESENT', 'NNP', 'O'),\n",
       " ('ILLNESS', 'NNP', 'O'),\n",
       " ('This', 'DT', 'O'),\n",
       " ('is', 'VBZ', 'O'),\n",
       " ('an', 'DT', 'O'),\n",
       " ('81-year-old', 'JJ', 'Age'),\n",
       " ('female', 'NN', 'Gender'),\n",
       " ('with', 'IN', 'O'),\n",
       " ('a', 'DT', 'O'),\n",
       " ('history', 'NN', 'O'),\n",
       " ('of', 'IN', 'O'),\n",
       " ('emphysema', 'NN', 'Condition'),\n",
       " ('not', 'RB', 'O'),\n",
       " ('on', 'IN', 'O'),\n",
       " ('home', 'NN', 'Drug'),\n",
       " ('O2', 'NNP', 'Drug'),\n",
       " (',', ',', 'O'),\n",
       " ('who', 'WP', 'O'),\n",
       " ('presents', 'VBZ', 'O'),\n",
       " ('with', 'IN', 'O'),\n",
       " ('three', 'CD', 'Duration'),\n",
       " ('days', 'NNS', 'Duration'),\n",
       " ('of', 'IN', 'O'),\n",
       " ('shortness', 'NN', 'DOS'),\n",
       " ('of', 'IN', 'DOS'),\n",
       " ('breath', 'NN', 'DOS'),\n",
       " ('thought', 'VBN', 'O'),\n",
       " ('by', 'IN', 'O'),\n",
       " ('her', 'PRP$', 'O'),\n",
       " ('primary', 'JJ', 'POI'),\n",
       " ('care', 'NN', 'POI'),\n",
       " ('doctor', 'NN', 'POI'),\n",
       " ('to', 'TO', 'O'),\n",
       " ('be', 'VB', 'O'),\n",
       " ('a', 'DT', 'O'),\n",
       " ('COPD', 'NNP', 'Condition'),\n",
       " ('flare', 'NN', 'Condition')]"
      ]
     },
     "execution_count": 278,
     "metadata": {},
     "output_type": "execute_result"
    }
   ],
   "source": [
    "sample_seqs[0]"
   ]
  },
  {
   "cell_type": "code",
   "execution_count": 269,
   "metadata": {},
   "outputs": [],
   "source": [
    "def create_annotations(crf,seqs):\n",
    "    x = [sent2features(s) for s in seqs]\n",
    "    ner_tags = crf.predict(x)\n",
    "    return ner_tags"
   ]
  },
  {
   "cell_type": "code",
   "execution_count": 270,
   "metadata": {},
   "outputs": [],
   "source": [
    "def create_dataset(crf,seqs):\n",
    "    ner_tags = create_annotations(crf,seqs)\n",
    "    data = []\n",
    "    for i in range(len(seqs)):\n",
    "        data_entry = [[seqs[i][j][0],ner_tags[i][j]] for j in range(len(seqs[i]))]\n",
    "        data.append(data_entry)\n",
    "    return data"
   ]
  },
  {
   "cell_type": "code",
   "execution_count": 271,
   "metadata": {},
   "outputs": [
    {
     "data": {
      "text/plain": [
       "[['HISTORY', 'O'],\n",
       " ['OF', 'O'],\n",
       " ['PRESENT', 'O'],\n",
       " ['ILLNESS', 'O'],\n",
       " ['This', 'O'],\n",
       " ['is', 'O'],\n",
       " ['an', 'O'],\n",
       " ['81-year-old', 'Age'],\n",
       " ['female', 'Gender'],\n",
       " ['with', 'O']]"
      ]
     },
     "execution_count": 271,
     "metadata": {},
     "output_type": "execute_result"
    }
   ],
   "source": [
    "data = create_dataset(crf,sample_seqs)\n",
    "data[0][:10]"
   ]
  },
  {
   "cell_type": "code",
   "execution_count": 272,
   "metadata": {},
   "outputs": [],
   "source": [
    "sample_row = data[0]"
   ]
  },
  {
   "cell_type": "code",
   "execution_count": 273,
   "metadata": {},
   "outputs": [],
   "source": [
    "def get_points(seq):\n",
    "    start = 0\n",
    "    end = 0\n",
    "    starts = []\n",
    "    ends = []\n",
    "    for entry in seq:\n",
    "        starts.append(start)\n",
    "        start += len(entry[0])+1\n",
    "        ends.append(start-2)\n",
    "    new_seq = [[seq[i][0],seq[i][1],starts[i],ends[i]] for i in range(len(seq))]\n",
    "    return new_seq"
   ]
  },
  {
   "cell_type": "code",
   "execution_count": 274,
   "metadata": {},
   "outputs": [],
   "source": [
    "def get_annotation(seq):\n",
    "    new_seq = get_points(seq)\n",
    "    annotations = []\n",
    "    for text,tag,start,end in new_seq:\n",
    "        if tag != \"O\":\n",
    "            annot = {}\n",
    "            annot[\"label\"] = [tag]\n",
    "            annot[\"points\"] = [{\"start\":start,\"end\":end,\"text\":text}]\n",
    "            annotations.append(annot)\n",
    "    return annotations"
   ]
  },
  {
   "cell_type": "code",
   "execution_count": 275,
   "metadata": {},
   "outputs": [
    {
     "data": {
      "text/plain": [
       "[['Review', 'Test / Screening', 0, 5],\n",
       " ['of', 'Test / Screening', 7, 8],\n",
       " ['systems', 'Test / Screening', 10, 16],\n",
       " ['is', 'O', 18, 19],\n",
       " ['negative', 'Other Measurement / Result', 21, 28],\n",
       " ['for', 'O', 30, 32],\n",
       " ['the', 'O', 34, 36],\n",
       " ['following', 'O', 38, 46],\n",
       " ['Fevers', 'DOS', 48, 53],\n",
       " ['chills', 'DOS', 55, 60],\n",
       " ['nausea', 'DOS', 62, 67],\n",
       " ['vomiting', 'DOS', 69, 76],\n",
       " ['night', 'DOS', 78, 82],\n",
       " ['sweats', 'DOS', 84, 89],\n",
       " ['change', 'DOS', 91, 96],\n",
       " ['in', 'DOS', 98, 99],\n",
       " ['weight', 'DOS', 101, 106],\n",
       " ['gastrointestinal', 'DOS', 108, 123],\n",
       " ['complaints', 'DOS', 125, 134],\n",
       " ['neurologic', 'DOS', 136, 145],\n",
       " ['changes', 'DOS', 147, 153],\n",
       " ['rashes', 'DOS', 155, 160],\n",
       " ['palpitations', 'DOS', 162, 173],\n",
       " ['orthopnea', 'DOS', 175, 183]]"
      ]
     },
     "execution_count": 275,
     "metadata": {},
     "output_type": "execute_result"
    }
   ],
   "source": [
    "get_points(data[3])"
   ]
  },
  {
   "cell_type": "code",
   "execution_count": 276,
   "metadata": {},
   "outputs": [],
   "source": [
    "def write_json(file,data):\n",
    "    with open(file,\"w\") as f:\n",
    "        for seq in data:\n",
    "            line = {}\n",
    "            line[\"content\"] = \" \".join([i[0] for i in seq])\n",
    "            line[\"annotation\"]  = get_annotation(seq)\n",
    "            line[\"extras\"] = {\"Name\":\"ColumnName\",\"Class\":\"ColumnValue\"}\n",
    "            f.write(json.dumps(line))\n",
    "            f.write(\"\\n\")\n",
    "    print(\"~~~Annotations Saved~~~\")\n",
    "    return"
   ]
  },
  {
   "cell_type": "code",
   "execution_count": 277,
   "metadata": {},
   "outputs": [
    {
     "name": "stdout",
     "output_type": "stream",
     "text": [
      "~~~Annotations Saved~~~\n"
     ]
    }
   ],
   "source": [
    "save_file = \"./data/sample_annots.txt\"\n",
    "write_json(save_file,data)"
   ]
  },
  {
   "cell_type": "code",
   "execution_count": null,
   "metadata": {},
   "outputs": [],
   "source": []
  }
 ],
 "metadata": {
  "kernelspec": {
   "display_name": "Python [conda env:keras36]",
   "language": "python",
   "name": "conda-env-keras36-py"
  },
  "language_info": {
   "codemirror_mode": {
    "name": "ipython",
    "version": 3
   },
   "file_extension": ".py",
   "mimetype": "text/x-python",
   "name": "python",
   "nbconvert_exporter": "python",
   "pygments_lexer": "ipython3",
   "version": "3.6.9"
  }
 },
 "nbformat": 4,
 "nbformat_minor": 2
}
